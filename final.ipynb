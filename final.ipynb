{
 "cells": [
  {
   "cell_type": "markdown",
   "metadata": {},
   "source": [
    "Import necessary library"
   ]
  },
  {
   "cell_type": "code",
   "execution_count": 2,
   "metadata": {},
   "outputs": [],
   "source": [
    "import pandas as pd\n",
    "import numpy as np\n",
    "import requests\n",
    "import json\n",
    "import urllib.request\n",
    "from bs4 import BeautifulSoup\n",
    "from sklearn.metrics.pairwise import cosine_similarity\n",
    "from sklearn.neighbors import NearestNeighbors\n",
    "from sklearn.preprocessing import LabelEncoder\n",
    "from sklearn.impute import SimpleImputer\n",
    "from sklearn.neighbors import NearestNeighbors\n",
    "from sklearn.feature_extraction.text import CountVectorizer\n",
    "from scipy.sparse import csr_matrix"
   ]
  },
  {
   "cell_type": "markdown",
   "metadata": {},
   "source": [
    "Getting information about the events on the site from the api"
   ]
  },
  {
   "cell_type": "code",
   "execution_count": 3,
   "metadata": {},
   "outputs": [],
   "source": [
    "def data_scrap(url: str):\n",
    "    url = url\n",
    "    response = requests.get(url)\n",
    "\n",
    "    if response.status_code == 200:\n",
    "\n",
    "        soup = BeautifulSoup(response.text, \"html.parser\")\n",
    "\n",
    "        h3_tags_title = soup.find_all(\"h3\", class_=\"blog_post_title my-2\")\n",
    "        h3_tags_location = soup.find_all(\"div\", class_=\"blog_post_title my-2\")\n",
    "        h3_tags_date = soup.find_all(\"div\", class_=\"theater-date my-2\")\n",
    "\n",
    "        titles = []\n",
    "        location = []\n",
    "        date = []\n",
    "\n",
    "        for title in h3_tags_title:\n",
    "            if title.text.strip():\n",
    "                titles.append(title.text.strip())\n",
    "\n",
    "        df_title = pd.DataFrame({\"Titles\": titles})\n",
    "\n",
    "        for loc in h3_tags_location:\n",
    "            if loc.text.strip():\n",
    "                location.append(loc.text.strip())\n",
    "\n",
    "        df_location = pd.DataFrame({\"Titles\": location})\n",
    "\n",
    "        for dt in h3_tags_date:\n",
    "            if dt.text.strip():\n",
    "                date.append(dt.text.strip())\n",
    "\n",
    "        df_date = pd.DataFrame({\"Titles\": date})\n",
    "\n",
    "    return df_title, df_date, df_location"
   ]
  },
  {
   "cell_type": "code",
   "execution_count": 4,
   "metadata": {},
   "outputs": [],
   "source": [
    "# load events\n",
    "df_title, df_date, df_location = data_scrap(\"https://www.6234.ir/\")"
   ]
  },
  {
   "cell_type": "markdown",
   "metadata": {},
   "source": [
    "Getting information about the user buy and Interaction history on the site from the api"
   ]
  },
  {
   "cell_type": "code",
   "execution_count": 5,
   "metadata": {},
   "outputs": [],
   "source": [
    "def user_buy_iteraction_from_api(buy_api: str, iter_api: str):\n",
    "    buy_link = buy_api\n",
    "    iter_link = iter_api\n",
    "    urllib.request.urlretrieve(iter_link, \"log.xlsx\")\n",
    "    iter_history = pd.read_excel(\"log.xlsx\")\n",
    "    urllib.request.urlretrieve(buy_link, \"visitor.xlsx\")\n",
    "    buy_history = pd.read_excel(\"visitor.xlsx\")\n",
    "\n",
    "    return iter_history, buy_history"
   ]
  },
  {
   "cell_type": "code",
   "execution_count": 6,
   "metadata": {},
   "outputs": [],
   "source": [
    "# load user buy and interaction from api\n",
    "\n",
    "interaction, buy_history = user_buy_iteraction_from_api(\n",
    "    \"https://6234.ir/api/ticket?token=apiqazxcvbnm&ofDate=1402/08/20&toDate=1402/12/29\",\n",
    "    \"https://6234.ir/api/log?token=apiqazxcvbnm&ofDate=1402/08/20&toDate=1402/12/29\",\n",
    ")"
   ]
  },
  {
   "cell_type": "markdown",
   "metadata": {},
   "source": [
    "Data preparation"
   ]
  },
  {
   "cell_type": "code",
   "execution_count": 7,
   "metadata": {},
   "outputs": [
    {
     "data": {
      "text/html": [
       "<div>\n",
       "<style scoped>\n",
       "    .dataframe tbody tr th:only-of-type {\n",
       "        vertical-align: middle;\n",
       "    }\n",
       "\n",
       "    .dataframe tbody tr th {\n",
       "        vertical-align: top;\n",
       "    }\n",
       "\n",
       "    .dataframe thead th {\n",
       "        text-align: right;\n",
       "    }\n",
       "</style>\n",
       "<table border=\"1\" class=\"dataframe\">\n",
       "  <thead>\n",
       "    <tr style=\"text-align: right;\">\n",
       "      <th></th>\n",
       "      <th>نام و نام خانوادگی</th>\n",
       "      <th>شماره موبایل</th>\n",
       "      <th>بازدید</th>\n",
       "      <th>زمان تعامل(تانیه)</th>\n",
       "      <th>آی پی</th>\n",
       "      <th>تاریخ</th>\n",
       "      <th>تگ ها</th>\n",
       "      <th>توضیحات</th>\n",
       "    </tr>\n",
       "  </thead>\n",
       "  <tbody>\n",
       "    <tr>\n",
       "      <th>0</th>\n",
       "      <td>ناشناس</td>\n",
       "      <td>NaN</td>\n",
       "      <td>صفحه اصلی</td>\n",
       "      <td>0.0</td>\n",
       "      <td>83.123.96.25</td>\n",
       "      <td>1402/12/28 21:17:53</td>\n",
       "      <td>NaN</td>\n",
       "      <td>NaN</td>\n",
       "    </tr>\n",
       "    <tr>\n",
       "      <th>1</th>\n",
       "      <td>ناشناس</td>\n",
       "      <td>NaN</td>\n",
       "      <td>صفحه اصلی</td>\n",
       "      <td>0.0</td>\n",
       "      <td>190.212.57.90</td>\n",
       "      <td>1402/12/28 21:17:42</td>\n",
       "      <td>NaN</td>\n",
       "      <td>NaN</td>\n",
       "    </tr>\n",
       "    <tr>\n",
       "      <th>2</th>\n",
       "      <td>ناشناس</td>\n",
       "      <td>NaN</td>\n",
       "      <td>صفحه اصلی</td>\n",
       "      <td>0.0</td>\n",
       "      <td>43.135.149.154</td>\n",
       "      <td>1402/12/28 19:33:12</td>\n",
       "      <td>NaN</td>\n",
       "      <td>NaN</td>\n",
       "    </tr>\n",
       "    <tr>\n",
       "      <th>3</th>\n",
       "      <td>ناشناس</td>\n",
       "      <td>NaN</td>\n",
       "      <td>صفحه اصلی</td>\n",
       "      <td>0.0</td>\n",
       "      <td>104.233.15.70</td>\n",
       "      <td>1402/12/28 19:11:35</td>\n",
       "      <td>NaN</td>\n",
       "      <td>NaN</td>\n",
       "    </tr>\n",
       "    <tr>\n",
       "      <th>4</th>\n",
       "      <td>ناشناس</td>\n",
       "      <td>NaN</td>\n",
       "      <td>صفحه اصلی</td>\n",
       "      <td>0.0</td>\n",
       "      <td>129.226.146.179</td>\n",
       "      <td>1402/12/28 18:45:03</td>\n",
       "      <td>NaN</td>\n",
       "      <td>NaN</td>\n",
       "    </tr>\n",
       "  </tbody>\n",
       "</table>\n",
       "</div>"
      ],
      "text/plain": [
       "  نام و نام خانوادگی  شماره موبایل     بازدید  زمان تعامل(تانیه)  \\\n",
       "0             ناشناس           NaN  صفحه اصلی                0.0   \n",
       "1             ناشناس           NaN  صفحه اصلی                0.0   \n",
       "2             ناشناس           NaN  صفحه اصلی                0.0   \n",
       "3             ناشناس           NaN  صفحه اصلی                0.0   \n",
       "4             ناشناس           NaN  صفحه اصلی                0.0   \n",
       "\n",
       "             آی پی                تاریخ تگ ها توضیحات  \n",
       "0     83.123.96.25  1402/12/28 21:17:53   NaN     NaN  \n",
       "1    190.212.57.90  1402/12/28 21:17:42   NaN     NaN  \n",
       "2   43.135.149.154  1402/12/28 19:33:12   NaN     NaN  \n",
       "3    104.233.15.70  1402/12/28 19:11:35   NaN     NaN  \n",
       "4  129.226.146.179  1402/12/28 18:45:03   NaN     NaN  "
      ]
     },
     "execution_count": 7,
     "metadata": {},
     "output_type": "execute_result"
    }
   ],
   "source": [
    "interaction.head()"
   ]
  },
  {
   "cell_type": "markdown",
   "metadata": {},
   "source": [
    "Visiting is important here and we will fill the empty space"
   ]
  },
  {
   "cell_type": "code",
   "execution_count": 8,
   "metadata": {},
   "outputs": [
    {
     "name": "stdout",
     "output_type": "stream",
     "text": [
      "<class 'pandas.core.frame.DataFrame'>\n",
      "RangeIndex: 30204 entries, 0 to 30203\n",
      "Data columns (total 8 columns):\n",
      " #   Column              Non-Null Count  Dtype  \n",
      "---  ------              --------------  -----  \n",
      " 0   نام و نام خانوادگی  30186 non-null  object \n",
      " 1   شماره موبایل        134 non-null    float64\n",
      " 2   بازدید              30176 non-null  object \n",
      " 3   زمان تعامل(تانیه)   30204 non-null  float64\n",
      " 4   آی پی               30204 non-null  object \n",
      " 5   تاریخ               30204 non-null  object \n",
      " 6   تگ ها               136 non-null    object \n",
      " 7   توضیحات             4644 non-null   object \n",
      "dtypes: float64(2), object(6)\n",
      "memory usage: 1.8+ MB\n"
     ]
    }
   ],
   "source": [
    "interaction.info()"
   ]
  },
  {
   "cell_type": "code",
   "execution_count": 9,
   "metadata": {},
   "outputs": [
    {
     "data": {
      "text/plain": [
       "نام و نام خانوادگی       18\n",
       "شماره موبایل          30070\n",
       "بازدید                   28\n",
       "زمان تعامل(تانیه)         0\n",
       "آی پی                     0\n",
       "تاریخ                     0\n",
       "تگ ها                 30068\n",
       "توضیحات               25560\n",
       "dtype: int64"
      ]
     },
     "execution_count": 9,
     "metadata": {},
     "output_type": "execute_result"
    }
   ],
   "source": [
    "interaction.isnull().sum()"
   ]
  },
  {
   "cell_type": "code",
   "execution_count": 10,
   "metadata": {},
   "outputs": [],
   "source": [
    "# fill na\n",
    "interaction[\"بازدید\"] = interaction[\"بازدید\"].fillna(\"ffill\")\n",
    "interaction[\"نام و نام خانوادگی\"] = interaction[\"نام و نام خانوادگی\"].fillna(\"none\")\n",
    "interaction[\"شماره موبایل\"] = interaction[\"شماره موبایل\"].fillna(\"none\")"
   ]
  },
  {
   "cell_type": "code",
   "execution_count": 11,
   "metadata": {},
   "outputs": [],
   "source": [
    "# Drop صفحه اصلی from بازدید columns\n",
    "interaction = interaction[interaction[\"بازدید\"] != \"صفحه اصلی\"]"
   ]
  },
  {
   "cell_type": "code",
   "execution_count": 12,
   "metadata": {},
   "outputs": [
    {
     "data": {
      "text/html": [
       "<div>\n",
       "<style scoped>\n",
       "    .dataframe tbody tr th:only-of-type {\n",
       "        vertical-align: middle;\n",
       "    }\n",
       "\n",
       "    .dataframe tbody tr th {\n",
       "        vertical-align: top;\n",
       "    }\n",
       "\n",
       "    .dataframe thead th {\n",
       "        text-align: right;\n",
       "    }\n",
       "</style>\n",
       "<table border=\"1\" class=\"dataframe\">\n",
       "  <thead>\n",
       "    <tr style=\"text-align: right;\">\n",
       "      <th></th>\n",
       "      <th>شماره بلیط</th>\n",
       "      <th>نام و نام خانوادگی</th>\n",
       "      <th>شماره موبایل</th>\n",
       "      <th>ایمیل</th>\n",
       "      <th>تاریخ تولد</th>\n",
       "      <th>سن</th>\n",
       "      <th>جنسیت</th>\n",
       "      <th>استان سکونت</th>\n",
       "      <th>شهر سکونت</th>\n",
       "      <th>تحصیلات</th>\n",
       "      <th>...</th>\n",
       "      <th>صندلی</th>\n",
       "      <th>استان</th>\n",
       "      <th>شهر</th>\n",
       "      <th>سالن</th>\n",
       "      <th>تهیه کننده</th>\n",
       "      <th>صحنه گردان</th>\n",
       "      <th>رویداد</th>\n",
       "      <th>تاریخ سانس</th>\n",
       "      <th>ساعت سانس</th>\n",
       "      <th>تاریخ ثبت</th>\n",
       "    </tr>\n",
       "  </thead>\n",
       "  <tbody>\n",
       "    <tr>\n",
       "      <th>0</th>\n",
       "      <td>1600</td>\n",
       "      <td>سفردوست</td>\n",
       "      <td>9101758962</td>\n",
       "      <td>NaN</td>\n",
       "      <td>1354/01/08</td>\n",
       "      <td>49</td>\n",
       "      <td>male</td>\n",
       "      <td>تهران</td>\n",
       "      <td>تهران</td>\n",
       "      <td>NaN</td>\n",
       "      <td>...</td>\n",
       "      <td>NaN</td>\n",
       "      <td>NaN</td>\n",
       "      <td>NaN</td>\n",
       "      <td>ترکیه</td>\n",
       "      <td>NaN</td>\n",
       "      <td>NaN</td>\n",
       "      <td>پارک امیرگان ( Test )</td>\n",
       "      <td>1 فروردین 1403</td>\n",
       "      <td>NaN</td>\n",
       "      <td>1402/08/20 18:12:26</td>\n",
       "    </tr>\n",
       "    <tr>\n",
       "      <th>1</th>\n",
       "      <td>1601</td>\n",
       "      <td>امیر نبی پور</td>\n",
       "      <td>9117803218</td>\n",
       "      <td>nabipour63@gmail.com</td>\n",
       "      <td>1363/01/01</td>\n",
       "      <td>40</td>\n",
       "      <td>male</td>\n",
       "      <td>تهران</td>\n",
       "      <td>تهران</td>\n",
       "      <td>کارشناسی ارشد</td>\n",
       "      <td>...</td>\n",
       "      <td>NaN</td>\n",
       "      <td>NaN</td>\n",
       "      <td>NaN</td>\n",
       "      <td>NaN</td>\n",
       "      <td>موسسه شکوه موسیقی ایرانیان</td>\n",
       "      <td>NaN</td>\n",
       "      <td>مسابقه آنلاین</td>\n",
       "      <td>1 فروردین 1403</td>\n",
       "      <td>20:00</td>\n",
       "      <td>1402/08/26 22:46:13</td>\n",
       "    </tr>\n",
       "    <tr>\n",
       "      <th>2</th>\n",
       "      <td>1602</td>\n",
       "      <td>سفردوست</td>\n",
       "      <td>9101758962</td>\n",
       "      <td>NaN</td>\n",
       "      <td>1354/01/08</td>\n",
       "      <td>49</td>\n",
       "      <td>male</td>\n",
       "      <td>تهران</td>\n",
       "      <td>تهران</td>\n",
       "      <td>NaN</td>\n",
       "      <td>...</td>\n",
       "      <td>NaN</td>\n",
       "      <td>NaN</td>\n",
       "      <td>NaN</td>\n",
       "      <td>ترکیه</td>\n",
       "      <td>NaN</td>\n",
       "      <td>NaN</td>\n",
       "      <td>پارک امیرگان ( Test )</td>\n",
       "      <td>1 فروردین 1403</td>\n",
       "      <td>NaN</td>\n",
       "      <td>1402/09/01 11:24:12</td>\n",
       "    </tr>\n",
       "    <tr>\n",
       "      <th>3</th>\n",
       "      <td>1603</td>\n",
       "      <td>سفردوست</td>\n",
       "      <td>9101758962</td>\n",
       "      <td>NaN</td>\n",
       "      <td>1354/01/08</td>\n",
       "      <td>49</td>\n",
       "      <td>male</td>\n",
       "      <td>تهران</td>\n",
       "      <td>تهران</td>\n",
       "      <td>NaN</td>\n",
       "      <td>...</td>\n",
       "      <td>NaN</td>\n",
       "      <td>NaN</td>\n",
       "      <td>NaN</td>\n",
       "      <td>NaN</td>\n",
       "      <td>موسسه شکوه موسیقی ایرانیان</td>\n",
       "      <td>NaN</td>\n",
       "      <td>مسابقه آنلاین</td>\n",
       "      <td>1 فروردین 1403</td>\n",
       "      <td>20:00</td>\n",
       "      <td>1402/09/03 16:17:00</td>\n",
       "    </tr>\n",
       "    <tr>\n",
       "      <th>4</th>\n",
       "      <td>1604</td>\n",
       "      <td>سفردوست</td>\n",
       "      <td>9101758962</td>\n",
       "      <td>NaN</td>\n",
       "      <td>1354/01/08</td>\n",
       "      <td>49</td>\n",
       "      <td>male</td>\n",
       "      <td>تهران</td>\n",
       "      <td>تهران</td>\n",
       "      <td>NaN</td>\n",
       "      <td>...</td>\n",
       "      <td>NaN</td>\n",
       "      <td>NaN</td>\n",
       "      <td>NaN</td>\n",
       "      <td>NaN</td>\n",
       "      <td>موسسه شکوه موسیقی ایرانیان</td>\n",
       "      <td>NaN</td>\n",
       "      <td>مسابقه آنلاین</td>\n",
       "      <td>1 فروردین 1403</td>\n",
       "      <td>20:00</td>\n",
       "      <td>1402/09/03 16:24:22</td>\n",
       "    </tr>\n",
       "  </tbody>\n",
       "</table>\n",
       "<p>5 rows × 23 columns</p>\n",
       "</div>"
      ],
      "text/plain": [
       "   شماره بلیط نام و نام خانوادگی  شماره موبایل                 ایمیل  \\\n",
       "0        1600            سفردوست    9101758962                   NaN   \n",
       "1        1601       امیر نبی پور    9117803218  nabipour63@gmail.com   \n",
       "2        1602            سفردوست    9101758962                   NaN   \n",
       "3        1603            سفردوست    9101758962                   NaN   \n",
       "4        1604            سفردوست    9101758962                   NaN   \n",
       "\n",
       "   تاریخ تولد  سن جنسیت استان سکونت شهر سکونت        تحصیلات  ... صندلی  \\\n",
       "0  1354/01/08  49  male       تهران     تهران            NaN  ...   NaN   \n",
       "1  1363/01/01  40  male       تهران     تهران  کارشناسی ارشد  ...   NaN   \n",
       "2  1354/01/08  49  male       تهران     تهران            NaN  ...   NaN   \n",
       "3  1354/01/08  49  male       تهران     تهران            NaN  ...   NaN   \n",
       "4  1354/01/08  49  male       تهران     تهران            NaN  ...   NaN   \n",
       "\n",
       "   استان  شهر   سالن                  تهیه کننده  صحنه گردان  \\\n",
       "0    NaN  NaN  ترکیه                         NaN         NaN   \n",
       "1    NaN  NaN    NaN  موسسه شکوه موسیقی ایرانیان         NaN   \n",
       "2    NaN  NaN  ترکیه                         NaN         NaN   \n",
       "3    NaN  NaN    NaN  موسسه شکوه موسیقی ایرانیان         NaN   \n",
       "4    NaN  NaN    NaN  موسسه شکوه موسیقی ایرانیان         NaN   \n",
       "\n",
       "                  رویداد      تاریخ سانس  ساعت سانس            تاریخ ثبت  \n",
       "0  پارک امیرگان ( Test )  1 فروردین 1403        NaN  1402/08/20 18:12:26  \n",
       "1          مسابقه آنلاین  1 فروردین 1403      20:00  1402/08/26 22:46:13  \n",
       "2  پارک امیرگان ( Test )  1 فروردین 1403        NaN  1402/09/01 11:24:12  \n",
       "3          مسابقه آنلاین  1 فروردین 1403      20:00  1402/09/03 16:17:00  \n",
       "4          مسابقه آنلاین  1 فروردین 1403      20:00  1402/09/03 16:24:22  \n",
       "\n",
       "[5 rows x 23 columns]"
      ]
     },
     "execution_count": 12,
     "metadata": {},
     "output_type": "execute_result"
    }
   ],
   "source": [
    "buy_history.head()"
   ]
  },
  {
   "cell_type": "code",
   "execution_count": 13,
   "metadata": {},
   "outputs": [],
   "source": [
    "# merge all df\n",
    "def merge_df(\n",
    "    title_scrap: pd.DataFrame,\n",
    "    location_scrap: pd.DataFrame,\n",
    "    date_scrap: pd.DataFrame,\n",
    "    itraction,\n",
    "    buy_history,\n",
    "):\n",
    "\n",
    "    merge_df = pd.DataFrame(\n",
    "        {\n",
    "            \"Titles\": title_scrap[\"Titles\"],\n",
    "            \"Location\": location_scrap[\"Titles\"],\n",
    "            \"Date\": date_scrap[\"Titles\"],\n",
    "        }\n",
    "    )\n",
    "\n",
    "    merge_df = pd.concat(\n",
    "        [merge_df[\"Titles\"], itraction[\"بازدید\"], buy_history[\"رویداد\"]]\n",
    "    ).reset_index()\n",
    "\n",
    "    merge_df.columns = [\"index\", \"Titles\"]\n",
    "\n",
    "    return merge_df"
   ]
  },
  {
   "cell_type": "code",
   "execution_count": 14,
   "metadata": {},
   "outputs": [
    {
     "data": {
      "text/html": [
       "<div>\n",
       "<style scoped>\n",
       "    .dataframe tbody tr th:only-of-type {\n",
       "        vertical-align: middle;\n",
       "    }\n",
       "\n",
       "    .dataframe tbody tr th {\n",
       "        vertical-align: top;\n",
       "    }\n",
       "\n",
       "    .dataframe thead th {\n",
       "        text-align: right;\n",
       "    }\n",
       "</style>\n",
       "<table border=\"1\" class=\"dataframe\">\n",
       "  <thead>\n",
       "    <tr style=\"text-align: right;\">\n",
       "      <th></th>\n",
       "      <th>index</th>\n",
       "      <th>Titles</th>\n",
       "    </tr>\n",
       "  </thead>\n",
       "  <tbody>\n",
       "    <tr>\n",
       "      <th>0</th>\n",
       "      <td>0</td>\n",
       "      <td>کنسرت تست ( بدون انتخاب صندلی )</td>\n",
       "    </tr>\n",
       "    <tr>\n",
       "      <th>1</th>\n",
       "      <td>1</td>\n",
       "      <td>کنسرت تست ( با انتخاب صندلی )</td>\n",
       "    </tr>\n",
       "    <tr>\n",
       "      <th>2</th>\n",
       "      <td>2</td>\n",
       "      <td>کنگره بین‌المللی جامعه دندانپزشکی ایران</td>\n",
       "    </tr>\n",
       "    <tr>\n",
       "      <th>3</th>\n",
       "      <td>3</td>\n",
       "      <td>دهمین همایش سالانه بانکداری الکترونیک</td>\n",
       "    </tr>\n",
       "    <tr>\n",
       "      <th>4</th>\n",
       "      <td>4</td>\n",
       "      <td>نمایشگاه و جشنواره هوش مصنوعی در گردشگری و تفر...</td>\n",
       "    </tr>\n",
       "  </tbody>\n",
       "</table>\n",
       "</div>"
      ],
      "text/plain": [
       "   index                                             Titles\n",
       "0      0                    کنسرت تست ( بدون انتخاب صندلی )\n",
       "1      1                      کنسرت تست ( با انتخاب صندلی )\n",
       "2      2            کنگره بین‌المللی جامعه دندانپزشکی ایران\n",
       "3      3              دهمین همایش سالانه بانکداری الکترونیک\n",
       "4      4  نمایشگاه و جشنواره هوش مصنوعی در گردشگری و تفر..."
      ]
     },
     "execution_count": 14,
     "metadata": {},
     "output_type": "execute_result"
    }
   ],
   "source": [
    "# use merge df func to merge all df\n",
    "\n",
    "merged_df = merge_df(\n",
    "    title_scrap=df_title,\n",
    "    location_scrap=df_location,\n",
    "    date_scrap=df_date,\n",
    "    itraction=interaction,\n",
    "    buy_history=buy_history,\n",
    ")\n",
    "merged_df.head()"
   ]
  },
  {
   "cell_type": "code",
   "execution_count": 15,
   "metadata": {},
   "outputs": [
    {
     "data": {
      "text/plain": [
       "index     0\n",
       "Titles    0\n",
       "dtype: int64"
      ]
     },
     "execution_count": 15,
     "metadata": {},
     "output_type": "execute_result"
    }
   ],
   "source": [
    "merged_df.isnull().sum()"
   ]
  },
  {
   "cell_type": "code",
   "execution_count": 16,
   "metadata": {},
   "outputs": [],
   "source": [
    "# use LabelEncoder for convert user(str) name to userId(int)\n",
    "def iteraction_pre(df):\n",
    "    df = df\n",
    "    le = LabelEncoder()\n",
    "    df[\"userId\"] = le.fit_transform(df[\"نام و نام خانوادگی\"])\n",
    "\n",
    "    return df"
   ]
  },
  {
   "cell_type": "code",
   "execution_count": 17,
   "metadata": {},
   "outputs": [
    {
     "name": "stderr",
     "output_type": "stream",
     "text": [
      "C:\\Users\\soheil\\AppData\\Local\\Temp\\ipykernel_16000\\2212424727.py:5: SettingWithCopyWarning: \n",
      "A value is trying to be set on a copy of a slice from a DataFrame.\n",
      "Try using .loc[row_indexer,col_indexer] = value instead\n",
      "\n",
      "See the caveats in the documentation: https://pandas.pydata.org/pandas-docs/stable/user_guide/indexing.html#returning-a-view-versus-a-copy\n",
      "  df[\"userId\"] = le.fit_transform(df[\"نام و نام خانوادگی\"])\n"
     ]
    }
   ],
   "source": [
    "df = iteraction_pre(interaction)"
   ]
  },
  {
   "cell_type": "code",
   "execution_count": 18,
   "metadata": {},
   "outputs": [],
   "source": [
    "def list_to_string(row):\n",
    "    return \" \".join(row)"
   ]
  },
  {
   "cell_type": "code",
   "execution_count": 19,
   "metadata": {},
   "outputs": [],
   "source": [
    "df_ohe = merged_df[\"Titles\"].str.split(\" \").reset_index().astype(\"str\")"
   ]
  },
  {
   "cell_type": "code",
   "execution_count": 20,
   "metadata": {},
   "outputs": [],
   "source": [
    "df_ohe[\"Titles\"] = df_ohe[\"Titles\"].apply(list_to_string)"
   ]
  },
  {
   "cell_type": "code",
   "execution_count": 21,
   "metadata": {},
   "outputs": [],
   "source": [
    "le = LabelEncoder()\n",
    "merged_df[\"ohe\"] = le.fit_transform(df_ohe[\"Titles\"])"
   ]
  },
  {
   "cell_type": "code",
   "execution_count": 22,
   "metadata": {},
   "outputs": [],
   "source": [
    "def vectorized_text(df: pd.DataFrame):\n",
    "    vectorized = CountVectorizer(token_pattern=r\"(?u)\\b\\w+\\b\")\n",
    "    X = vectorized.fit_transform(merged_df[\"Titles\"])\n",
    "\n",
    "    feature_names = vectorized.get_feature_names_out()\n",
    "    one_hot_df = pd.DataFrame(X.toarray(), columns=feature_names)\n",
    "\n",
    "    dfs = pd.concat([df, one_hot_df], axis=1)\n",
    "    dfs.drop(columns=[\"Titles\"], inplace=True)\n",
    "\n",
    "    return dfs"
   ]
  },
  {
   "cell_type": "code",
   "execution_count": 23,
   "metadata": {},
   "outputs": [
    {
     "data": {
      "text/html": [
       "<div>\n",
       "<style scoped>\n",
       "    .dataframe tbody tr th:only-of-type {\n",
       "        vertical-align: middle;\n",
       "    }\n",
       "\n",
       "    .dataframe tbody tr th {\n",
       "        vertical-align: top;\n",
       "    }\n",
       "\n",
       "    .dataframe thead th {\n",
       "        text-align: right;\n",
       "    }\n",
       "</style>\n",
       "<table border=\"1\" class=\"dataframe\">\n",
       "  <thead>\n",
       "    <tr style=\"text-align: right;\">\n",
       "      <th></th>\n",
       "      <th>Titles</th>\n",
       "    </tr>\n",
       "  </thead>\n",
       "  <tbody>\n",
       "    <tr>\n",
       "      <th>0</th>\n",
       "      <td>کنسرت تست ( بدون انتخاب صندلی )</td>\n",
       "    </tr>\n",
       "    <tr>\n",
       "      <th>1</th>\n",
       "      <td>کنسرت تست ( با انتخاب صندلی )</td>\n",
       "    </tr>\n",
       "    <tr>\n",
       "      <th>2</th>\n",
       "      <td>کنگره بین‌المللی جامعه دندانپزشکی ایران</td>\n",
       "    </tr>\n",
       "    <tr>\n",
       "      <th>3</th>\n",
       "      <td>دهمین همایش سالانه بانکداری الکترونیک</td>\n",
       "    </tr>\n",
       "    <tr>\n",
       "      <th>4</th>\n",
       "      <td>نمایشگاه و جشنواره هوش مصنوعی در گردشگری و تفر...</td>\n",
       "    </tr>\n",
       "    <tr>\n",
       "      <th>...</th>\n",
       "      <td>...</td>\n",
       "    </tr>\n",
       "    <tr>\n",
       "      <th>80</th>\n",
       "      <td>کنسرت حامد زمانی</td>\n",
       "    </tr>\n",
       "    <tr>\n",
       "      <th>81</th>\n",
       "      <td>کنسرت احمد سلو</td>\n",
       "    </tr>\n",
       "    <tr>\n",
       "      <th>82</th>\n",
       "      <td>کنسرت نوشه ( ویژه بانوان )</td>\n",
       "    </tr>\n",
       "    <tr>\n",
       "      <th>83</th>\n",
       "      <td>تفریحات</td>\n",
       "    </tr>\n",
       "    <tr>\n",
       "      <th>84</th>\n",
       "      <td>رزومه</td>\n",
       "    </tr>\n",
       "  </tbody>\n",
       "</table>\n",
       "<p>85 rows × 1 columns</p>\n",
       "</div>"
      ],
      "text/plain": [
       "                                               Titles\n",
       "0                     کنسرت تست ( بدون انتخاب صندلی )\n",
       "1                       کنسرت تست ( با انتخاب صندلی )\n",
       "2             کنگره بین‌المللی جامعه دندانپزشکی ایران\n",
       "3               دهمین همایش سالانه بانکداری الکترونیک\n",
       "4   نمایشگاه و جشنواره هوش مصنوعی در گردشگری و تفر...\n",
       "..                                                ...\n",
       "80                                   کنسرت حامد زمانی\n",
       "81                                     کنسرت احمد سلو\n",
       "82                         کنسرت نوشه ( ویژه بانوان )\n",
       "83                                            تفریحات\n",
       "84                                              رزومه\n",
       "\n",
       "[85 rows x 1 columns]"
      ]
     },
     "execution_count": 23,
     "metadata": {},
     "output_type": "execute_result"
    }
   ],
   "source": [
    "m_df = pd.DataFrame(merged_df[\"Titles\"].unique())\n",
    "m_df.columns = [\"Titles\"]\n",
    "m_df"
   ]
  },
  {
   "cell_type": "code",
   "execution_count": 24,
   "metadata": {},
   "outputs": [],
   "source": [
    "dfs = vectorized_text(m_df)"
   ]
  },
  {
   "cell_type": "code",
   "execution_count": 25,
   "metadata": {},
   "outputs": [],
   "source": [
    "def creat_X(df):\n",
    "\n",
    "    M = df[\"userId\"].nunique()\n",
    "\n",
    "    N = df[\"بازدید\"].nunique()\n",
    "\n",
    "    user_mapper = dict(zip(np.unique(df[\"userId\"]), list(range(M))))\n",
    "\n",
    "    item_mapper = dict(zip(np.unique(df[\"بازدید\"]), list(range(N))))\n",
    "\n",
    "    user_inv_mapper = dict(zip(list(range(M)), np.unique(df[\"userId\"])))\n",
    "\n",
    "    item_inv_mapper = dict(zip(list(range(N)), np.unique(df[\"بازدید\"])))\n",
    "\n",
    "    user_index = [user_mapper[i] for i in df[\"userId\"]]\n",
    "\n",
    "    item_indx = [item_mapper[i] for i in df[\"بازدید\"]]\n",
    "\n",
    "    X = csr_matrix((df[\"زمان تعامل(تانیه)\"], (user_index, item_indx)), shape=(M, N))\n",
    "\n",
    "    return X, user_mapper, item_mapper, user_inv_mapper, item_inv_mapper"
   ]
  },
  {
   "cell_type": "code",
   "execution_count": 26,
   "metadata": {},
   "outputs": [],
   "source": [
    "X, user_mapper, item_mapper, user_inv_mapper, item_inv_mapper = creat_X(df)"
   ]
  },
  {
   "cell_type": "code",
   "execution_count": 27,
   "metadata": {},
   "outputs": [],
   "source": [
    "def find_similar_item(iter_name, X, item_mapper, item_inv_mapper, k, metrics=\"cosine\"):\n",
    "\n",
    "    X = X.T\n",
    "    neighbours_ids = []\n",
    "\n",
    "    iter_ind = item_mapper[iter_name]\n",
    "    iter_vec = X[iter_ind]\n",
    "    if isinstance(iter_vec, (np.ndarray)):\n",
    "        iter_vec = iter_vec.reshape(1, -1)\n",
    "    # use k+1 since kNN output includes the user recommender of interest\n",
    "    knn = NearestNeighbors(n_neighbors=k + 1, algorithm=\"brute\", metric=metrics)\n",
    "    knn.fit(X)\n",
    "    neighbours = knn.kneighbors(iter_vec, return_distance=False)\n",
    "    for i in range(0, k):\n",
    "        n = neighbours.item(i)\n",
    "        neighbours_ids.append(item_inv_mapper[n])\n",
    "    neighbours_ids.pop(0)\n",
    "    return neighbours_ids"
   ]
  },
  {
   "cell_type": "code",
   "execution_count": 28,
   "metadata": {},
   "outputs": [
    {
     "data": {
      "text/plain": [
       "['اخبار و مقالات']"
      ]
     },
     "execution_count": 28,
     "metadata": {},
     "output_type": "execute_result"
    }
   ],
   "source": [
    "find_similar_item(\"تور دبی\", X, item_mapper, item_inv_mapper, k=2, metrics=\"cosine\")"
   ]
  },
  {
   "cell_type": "code",
   "execution_count": 29,
   "metadata": {},
   "outputs": [],
   "source": [
    "def cosine_similioraty(\n",
    "    dfs: pd.DataFrame, merge_pd, itraction, idx: str, n_recommendations: int = 1\n",
    "):\n",
    "    cosine_sim = cosine_similarity(dfs, dfs)\n",
    "    iter_idx = dict(zip(merged_df[\"Titles\"].unique(), list(itraction.index)))\n",
    "    idx = iter_idx[idx]\n",
    "    n_recommendations = n_recommendations\n",
    "    sim_scores = list(enumerate(cosine_sim[idx]))\n",
    "    sim_scores = sorted(sim_scores, key=lambda x: x[1], reverse=True)\n",
    "    sim_scores = sim_scores[1 : (n_recommendations + 1)]\n",
    "    similar_item = [i[0] for i in sim_scores]\n",
    "    recomended = merge_pd[\"Titles\"].iloc[similar_item]\n",
    "    recomended = recomended.to_list()\n",
    "\n",
    "    return recomended"
   ]
  },
  {
   "cell_type": "code",
   "execution_count": 30,
   "metadata": {},
   "outputs": [
    {
     "data": {
      "text/plain": [
       "(11413, 11413)"
      ]
     },
     "execution_count": 30,
     "metadata": {},
     "output_type": "execute_result"
    }
   ],
   "source": [
    "cosine_similarity(dfs, dfs).shape"
   ]
  },
  {
   "cell_type": "code",
   "execution_count": 31,
   "metadata": {},
   "outputs": [],
   "source": [
    "users_phone = interaction[\"شماره موبایل\"].unique()"
   ]
  },
  {
   "cell_type": "code",
   "execution_count": 162,
   "metadata": {},
   "outputs": [
    {
     "data": {
      "text/plain": [
       "{'no': ['خدمات گردشگری'],\n",
       " '9101022210': ['تور قشم'],\n",
       " '9145236873': ['کنسرت نمایش کلنل'],\n",
       " '9101758962': ['کنگره بین\\u200cالمللی جامعه دندانپزشکی ایران'],\n",
       " '9122070929': ['تور پوکت'],\n",
       " '9117803218': ['پارکینگ VIP']}"
      ]
     },
     "execution_count": 162,
     "metadata": {},
     "output_type": "execute_result"
    }
   ],
   "source": [
    "user_iter = {}\n",
    "for i in users_phone:\n",
    "    user_it = (\n",
    "        interaction[interaction[\"شماره موبایل\"] == i][[\"زمان تعامل(تانیه)\", \"بازدید\"]]\n",
    "        .sort_values(by=\"زمان تعامل(تانیه)\", ascending=False)\n",
    "        .iloc[:3]\n",
    "    )\n",
    "    user_it.columns = [\"زمان تعامل(تانیه)\", \"بازدید\"]\n",
    "    # user_it.drop(index=\"index\", inplace=True)\n",
    "    user_it[\"بازدید\"]\n",
    "    idx = user_it[\"بازدید\"].iloc[0]\n",
    "    phone = str(i)\n",
    "    phone = phone[:-2]\n",
    "    iters = cosine_similioraty(dfs, merged_df, interaction, idx=idx)\n",
    "    user_dict = {phone: iters}\n",
    "    user_iter.update(user_dict)\n",
    "user_iter"
   ]
  },
  {
   "cell_type": "code",
   "execution_count": 182,
   "metadata": {},
   "outputs": [
    {
     "data": {
      "text/html": [
       "<div>\n",
       "<style scoped>\n",
       "    .dataframe tbody tr th:only-of-type {\n",
       "        vertical-align: middle;\n",
       "    }\n",
       "\n",
       "    .dataframe tbody tr th {\n",
       "        vertical-align: top;\n",
       "    }\n",
       "\n",
       "    .dataframe thead th {\n",
       "        text-align: right;\n",
       "    }\n",
       "</style>\n",
       "<table border=\"1\" class=\"dataframe\">\n",
       "  <thead>\n",
       "    <tr style=\"text-align: right;\">\n",
       "      <th></th>\n",
       "      <th>0</th>\n",
       "    </tr>\n",
       "  </thead>\n",
       "  <tbody>\n",
       "    <tr>\n",
       "      <th>no</th>\n",
       "      <td>خدمات گردشگری</td>\n",
       "    </tr>\n",
       "    <tr>\n",
       "      <th>9101022210</th>\n",
       "      <td>تور قشم</td>\n",
       "    </tr>\n",
       "    <tr>\n",
       "      <th>9145236873</th>\n",
       "      <td>کنسرت نمایش کلنل</td>\n",
       "    </tr>\n",
       "    <tr>\n",
       "      <th>9101758962</th>\n",
       "      <td>کنگره بین‌المللی جامعه دندانپزشکی ایران</td>\n",
       "    </tr>\n",
       "    <tr>\n",
       "      <th>9122070929</th>\n",
       "      <td>تور پوکت</td>\n",
       "    </tr>\n",
       "    <tr>\n",
       "      <th>9117803218</th>\n",
       "      <td>پارکینگ VIP</td>\n",
       "    </tr>\n",
       "  </tbody>\n",
       "</table>\n",
       "</div>"
      ],
      "text/plain": [
       "                                                  0\n",
       "no                                    خدمات گردشگری\n",
       "9101022210                                  تور قشم\n",
       "9145236873                         کنسرت نمایش کلنل\n",
       "9101758962  کنگره بین‌المللی جامعه دندانپزشکی ایران\n",
       "9122070929                                 تور پوکت\n",
       "9117803218                              پارکینگ VIP"
      ]
     },
     "execution_count": 182,
     "metadata": {},
     "output_type": "execute_result"
    }
   ],
   "source": [
    "user_iter = {}\n",
    "phone_list = []\n",
    "recomend_df = pd.DataFrame()\n",
    "\n",
    "for i in users_phone:\n",
    "    user_it = (\n",
    "        interaction[interaction[\"شماره موبایل\"] == i][[\"زمان تعامل(تانیه)\", \"بازدید\"]]\n",
    "        .sort_values(by=\"زمان تعامل(تانیه)\", ascending=False)\n",
    "        .iloc[:2]\n",
    "    )\n",
    "    user_it.columns = [\"زمان تعامل(تانیه)\", \"بازدید\"]\n",
    "    # user_it.drop(index=\"index\", inplace=True)\n",
    "    phone_list.append(i)\n",
    "    user_it.columns = [\"زمان تعامل(تانیه)\", \"بازدید\"]\n",
    "    user_it[\"بازدید\"]\n",
    "    idx = user_it[\"بازدید\"].iloc[0]\n",
    "    phone = str(i)\n",
    "    phone = phone[:-2]\n",
    "    iters = cosine_similioraty(dfs, merged_df, interaction, idx=idx)\n",
    "    user_dict = {phone: iters}\n",
    "    user_iter.update(user_dict)\n",
    "pd.DataFrame(user_iter).T"
   ]
  },
  {
   "cell_type": "code",
   "execution_count": 191,
   "metadata": {},
   "outputs": [
    {
     "data": {
      "text/plain": [
       "none            [قوانین و مقررات, قوانین و مقررات, کنسرت تست (...\n",
       "9101022210.0              [تور آنتالیا, تور آنتالیا, تور آنتالیا]\n",
       "9145236873.0                                 [ایوان بند - خوشگله]\n",
       "9101758962.0    [کارتهای E-Pass, پارک امیرگان ( Test ), پارک ا...\n",
       "9122070929.0                                           [نمایشگاه]\n",
       "9117803218.0    [دهمین همایش سالانه بانکداری الکترونیک, کنسرت ...\n",
       "Name: بازدید, dtype: object"
      ]
     },
     "execution_count": 191,
     "metadata": {},
     "output_type": "execute_result"
    }
   ],
   "source": [
    "df_list = []\n",
    "\n",
    "for k in phone_list:\n",
    "    pre = (\n",
    "        interaction[interaction[\"شماره موبایل\"] == k][[\"زمان تعامل(تانیه)\", \"بازدید\"]]\n",
    "        .sort_values(by=\"زمان تعامل(تانیه)\", ascending=False)\n",
    "        .iloc[:3]\n",
    "    )\n",
    "    df_dict = pre.to_dict(orient=\"list\")  # Convert DataFrame to dictionary of lists\n",
    "    df_list.append(df_dict)\n",
    "\n",
    "recomend_df = pd.DataFrame(\n",
    "    df_list, index=phone_list\n",
    ")  # Create DataFrame from list of dictionaries\n",
    "recomend_df.loc[:, \"بازدید\"]"
   ]
  },
  {
   "cell_type": "code",
   "execution_count": 198,
   "metadata": {},
   "outputs": [
    {
     "data": {
      "text/html": [
       "<div>\n",
       "<style scoped>\n",
       "    .dataframe tbody tr th:only-of-type {\n",
       "        vertical-align: middle;\n",
       "    }\n",
       "\n",
       "    .dataframe tbody tr th {\n",
       "        vertical-align: top;\n",
       "    }\n",
       "\n",
       "    .dataframe thead th {\n",
       "        text-align: right;\n",
       "    }\n",
       "</style>\n",
       "<table border=\"1\" class=\"dataframe\">\n",
       "  <thead>\n",
       "    <tr style=\"text-align: right;\">\n",
       "      <th></th>\n",
       "      <th>زمان تعامل(تانیه)</th>\n",
       "      <th>بازدید</th>\n",
       "    </tr>\n",
       "  </thead>\n",
       "  <tbody>\n",
       "    <tr>\n",
       "      <th>28357</th>\n",
       "      <td>11.184</td>\n",
       "      <td>دهمین همایش سالانه بانکداری الکترونیک</td>\n",
       "    </tr>\n",
       "    <tr>\n",
       "      <th>27735</th>\n",
       "      <td>5.801</td>\n",
       "      <td>کنسرت تست ( با انتخاب صندلی )</td>\n",
       "    </tr>\n",
       "    <tr>\n",
       "      <th>28361</th>\n",
       "      <td>4.317</td>\n",
       "      <td>کنسرت احمد سلو</td>\n",
       "    </tr>\n",
       "    <tr>\n",
       "      <th>28365</th>\n",
       "      <td>4.289</td>\n",
       "      <td>کنسرت نمایش کلنل</td>\n",
       "    </tr>\n",
       "    <tr>\n",
       "      <th>29049</th>\n",
       "      <td>2.862</td>\n",
       "      <td>پخش آنلاین</td>\n",
       "    </tr>\n",
       "    <tr>\n",
       "      <th>28355</th>\n",
       "      <td>2.772</td>\n",
       "      <td>دهمین همایش سالانه بانکداری الکترونیک</td>\n",
       "    </tr>\n",
       "    <tr>\n",
       "      <th>29048</th>\n",
       "      <td>2.579</td>\n",
       "      <td>پخش آنلاین</td>\n",
       "    </tr>\n",
       "    <tr>\n",
       "      <th>28363</th>\n",
       "      <td>2.534</td>\n",
       "      <td>کنسرت نوشه ( ویژه بانوان )</td>\n",
       "    </tr>\n",
       "    <tr>\n",
       "      <th>28358</th>\n",
       "      <td>1.879</td>\n",
       "      <td>دهمین همایش سالانه بانکداری الکترونیک</td>\n",
       "    </tr>\n",
       "    <tr>\n",
       "      <th>28367</th>\n",
       "      <td>1.625</td>\n",
       "      <td>پخش آنلاین</td>\n",
       "    </tr>\n",
       "    <tr>\n",
       "      <th>29046</th>\n",
       "      <td>0.000</td>\n",
       "      <td>پخش آنلاین</td>\n",
       "    </tr>\n",
       "  </tbody>\n",
       "</table>\n",
       "</div>"
      ],
      "text/plain": [
       "       زمان تعامل(تانیه)                                 بازدید\n",
       "28357             11.184  دهمین همایش سالانه بانکداری الکترونیک\n",
       "27735              5.801          کنسرت تست ( با انتخاب صندلی )\n",
       "28361              4.317                         کنسرت احمد سلو\n",
       "28365              4.289                       کنسرت نمایش کلنل\n",
       "29049              2.862                             پخش آنلاین\n",
       "28355              2.772  دهمین همایش سالانه بانکداری الکترونیک\n",
       "29048              2.579                             پخش آنلاین\n",
       "28363              2.534             کنسرت نوشه ( ویژه بانوان )\n",
       "28358              1.879  دهمین همایش سالانه بانکداری الکترونیک\n",
       "28367              1.625                             پخش آنلاین\n",
       "29046              0.000                             پخش آنلاین"
      ]
     },
     "execution_count": 198,
     "metadata": {},
     "output_type": "execute_result"
    }
   ],
   "source": [
    "phone_dfs = {}\n",
    "\n",
    "for k in phone_list:\n",
    "    pre = interaction[interaction[\"شماره موبایل\"] == k][\n",
    "        [\"زمان تعامل(تانیه)\", \"بازدید\"]\n",
    "    ].sort_values(by=\"زمان تعامل(تانیه)\", ascending=False)\n",
    "    df = pd.DataFrame(pre)  # Create DataFrame for each phone number\n",
    "    phone_dfs[k] = df\n",
    "\n",
    "# Accessing a DataFrame for a specific phone number:\n",
    "# phone_dfs[\"123456789\"]\n",
    "pre"
   ]
  },
  {
   "cell_type": "code",
   "execution_count": 187,
   "metadata": {},
   "outputs": [
    {
     "data": {
      "text/html": [
       "<div>\n",
       "<style scoped>\n",
       "    .dataframe tbody tr th:only-of-type {\n",
       "        vertical-align: middle;\n",
       "    }\n",
       "\n",
       "    .dataframe tbody tr th {\n",
       "        vertical-align: top;\n",
       "    }\n",
       "\n",
       "    .dataframe thead th {\n",
       "        text-align: right;\n",
       "    }\n",
       "</style>\n",
       "<table border=\"1\" class=\"dataframe\">\n",
       "  <thead>\n",
       "    <tr style=\"text-align: right;\">\n",
       "      <th></th>\n",
       "      <th>زمان تعامل(تانیه)</th>\n",
       "      <th>بازدید</th>\n",
       "    </tr>\n",
       "  </thead>\n",
       "  <tbody>\n",
       "    <tr>\n",
       "      <th>28357</th>\n",
       "      <td>11.184</td>\n",
       "      <td>دهمین همایش سالانه بانکداری الکترونیک</td>\n",
       "    </tr>\n",
       "    <tr>\n",
       "      <th>27735</th>\n",
       "      <td>5.801</td>\n",
       "      <td>کنسرت تست ( با انتخاب صندلی )</td>\n",
       "    </tr>\n",
       "    <tr>\n",
       "      <th>28361</th>\n",
       "      <td>4.317</td>\n",
       "      <td>کنسرت احمد سلو</td>\n",
       "    </tr>\n",
       "  </tbody>\n",
       "</table>\n",
       "</div>"
      ],
      "text/plain": [
       "       زمان تعامل(تانیه)                                 بازدید\n",
       "28357             11.184  دهمین همایش سالانه بانکداری الکترونیک\n",
       "27735              5.801          کنسرت تست ( با انتخاب صندلی )\n",
       "28361              4.317                         کنسرت احمد سلو"
      ]
     },
     "execution_count": 187,
     "metadata": {},
     "output_type": "execute_result"
    }
   ],
   "source": [
    "interaction[interaction[\"شماره موبایل\"] == k][\n",
    "    [\"زمان تعامل(تانیه)\", \"بازدید\"]\n",
    "].sort_values(by=\"زمان تعامل(تانیه)\", ascending=False).iloc[:3]"
   ]
  },
  {
   "cell_type": "code",
   "execution_count": 173,
   "metadata": {},
   "outputs": [
    {
     "data": {
      "text/html": [
       "<div>\n",
       "<style scoped>\n",
       "    .dataframe tbody tr th:only-of-type {\n",
       "        vertical-align: middle;\n",
       "    }\n",
       "\n",
       "    .dataframe tbody tr th {\n",
       "        vertical-align: top;\n",
       "    }\n",
       "\n",
       "    .dataframe thead th {\n",
       "        text-align: right;\n",
       "    }\n",
       "</style>\n",
       "<table border=\"1\" class=\"dataframe\">\n",
       "  <thead>\n",
       "    <tr style=\"text-align: right;\">\n",
       "      <th></th>\n",
       "      <th>زمان تعامل(تانیه)</th>\n",
       "      <th>بازدید</th>\n",
       "    </tr>\n",
       "  </thead>\n",
       "  <tbody>\n",
       "    <tr>\n",
       "      <th>28357</th>\n",
       "      <td>11.184</td>\n",
       "      <td>دهمین همایش سالانه بانکداری الکترونیک</td>\n",
       "    </tr>\n",
       "    <tr>\n",
       "      <th>27735</th>\n",
       "      <td>5.801</td>\n",
       "      <td>کنسرت تست ( با انتخاب صندلی )</td>\n",
       "    </tr>\n",
       "  </tbody>\n",
       "</table>\n",
       "</div>"
      ],
      "text/plain": [
       "       زمان تعامل(تانیه)                                 بازدید\n",
       "28357             11.184  دهمین همایش سالانه بانکداری الکترونیک\n",
       "27735              5.801          کنسرت تست ( با انتخاب صندلی )"
      ]
     },
     "execution_count": 173,
     "metadata": {},
     "output_type": "execute_result"
    }
   ],
   "source": [
    "user_it"
   ]
  },
  {
   "cell_type": "code",
   "execution_count": 159,
   "metadata": {},
   "outputs": [
    {
     "data": {
      "text/plain": [
       "5"
      ]
     },
     "execution_count": 159,
     "metadata": {},
     "output_type": "execute_result"
    }
   ],
   "source": [
    "len(phone_list)"
   ]
  },
  {
   "cell_type": "code",
   "execution_count": 118,
   "metadata": {},
   "outputs": [
    {
     "data": {
      "text/plain": [
       "str"
      ]
     },
     "execution_count": 118,
     "metadata": {},
     "output_type": "execute_result"
    }
   ],
   "source": [
    "idxs = user_it[\"بازدید\"].iloc[1]\n",
    "type(idxs)"
   ]
  },
  {
   "cell_type": "code",
   "execution_count": 123,
   "metadata": {},
   "outputs": [
    {
     "name": "stdout",
     "output_type": "stream",
     "text": [
      "['کیوسکهای فروش آنلاین در مراکز تجاری']\n",
      "['تور آنتالیا']\n",
      "['ایوان بند - خوشگله']\n",
      "['کنسرت']\n",
      "['نمایشگاه']\n",
      "['کنسرت نوشه ( ویژه بانوان )']\n"
     ]
    }
   ],
   "source": [
    "user_iter = {}\n",
    "for i in users_phone:\n",
    "    user_it = (\n",
    "        interaction[interaction[\"شماره موبایل\"] == i][[\"زمان تعامل(تانیه)\", \"بازدید\"]]\n",
    "        .max()\n",
    "        .reset_index()\n",
    "        .T\n",
    "    )\n",
    "    user_it.columns = [\"زمان تعامل(تانیه)\", \"بازدید\"]\n",
    "    user_it.drop(index=\"index\", inplace=True)\n",
    "    user_it[\"بازدید\"]\n",
    "    idx = user_it[\"بازدید\"].to_list()\n",
    "    print(idx)"
   ]
  },
  {
   "cell_type": "code",
   "execution_count": 80,
   "metadata": {},
   "outputs": [
    {
     "data": {
      "text/plain": [
       "9117803218.0"
      ]
     },
     "execution_count": 80,
     "metadata": {},
     "output_type": "execute_result"
    }
   ],
   "source": [
    "i"
   ]
  },
  {
   "cell_type": "code",
   "execution_count": 72,
   "metadata": {},
   "outputs": [
    {
     "data": {
      "text/plain": [
       "['کنسرت نوشه ( ویژه بانوان )']"
      ]
     },
     "execution_count": 72,
     "metadata": {},
     "output_type": "execute_result"
    }
   ],
   "source": [
    "user_it[\"بازدید\"].to_list()"
   ]
  },
  {
   "cell_type": "code",
   "execution_count": 61,
   "metadata": {},
   "outputs": [
    {
     "data": {
      "text/html": [
       "<div>\n",
       "<style scoped>\n",
       "    .dataframe tbody tr th:only-of-type {\n",
       "        vertical-align: middle;\n",
       "    }\n",
       "\n",
       "    .dataframe tbody tr th {\n",
       "        vertical-align: top;\n",
       "    }\n",
       "\n",
       "    .dataframe thead th {\n",
       "        text-align: right;\n",
       "    }\n",
       "</style>\n",
       "<table border=\"1\" class=\"dataframe\">\n",
       "  <thead>\n",
       "    <tr style=\"text-align: right;\">\n",
       "      <th></th>\n",
       "      <th>زمان تعامل(تانیه)</th>\n",
       "      <th>بازدید</th>\n",
       "    </tr>\n",
       "  </thead>\n",
       "  <tbody>\n",
       "    <tr>\n",
       "      <th>28357</th>\n",
       "      <td>11.184</td>\n",
       "      <td>دهمین همایش سالانه بانکداری الکترونیک</td>\n",
       "    </tr>\n",
       "    <tr>\n",
       "      <th>27735</th>\n",
       "      <td>5.801</td>\n",
       "      <td>کنسرت تست ( با انتخاب صندلی )</td>\n",
       "    </tr>\n",
       "    <tr>\n",
       "      <th>28361</th>\n",
       "      <td>4.317</td>\n",
       "      <td>کنسرت احمد سلو</td>\n",
       "    </tr>\n",
       "  </tbody>\n",
       "</table>\n",
       "</div>"
      ],
      "text/plain": [
       "       زمان تعامل(تانیه)                                 بازدید\n",
       "28357             11.184  دهمین همایش سالانه بانکداری الکترونیک\n",
       "27735              5.801          کنسرت تست ( با انتخاب صندلی )\n",
       "28361              4.317                         کنسرت احمد سلو"
      ]
     },
     "execution_count": 61,
     "metadata": {},
     "output_type": "execute_result"
    }
   ],
   "source": [
    "interaction[interaction[\"شماره موبایل\"] == i][\n",
    "    [\"زمان تعامل(تانیه)\", \"بازدید\"]\n",
    "].sort_values(by=\"زمان تعامل(تانیه)\", ascending=False).iloc[:3]"
   ]
  },
  {
   "cell_type": "code",
   "execution_count": 40,
   "metadata": {},
   "outputs": [
    {
     "data": {
      "text/plain": [
       "['سالن اجرای صحنه ای 360']"
      ]
     },
     "execution_count": 40,
     "metadata": {},
     "output_type": "execute_result"
    }
   ],
   "source": [
    "cosine_similioraty(dfs, merged_df, interaction, idx=\"زانکو - گوشی خاموش\")"
   ]
  },
  {
   "cell_type": "code",
   "execution_count": 33,
   "metadata": {},
   "outputs": [],
   "source": [
    "iter_idx = dict(zip(merged_df[\"Titles\"].unique(), list(interaction.index)))"
   ]
  },
  {
   "cell_type": "code",
   "execution_count": 34,
   "metadata": {},
   "outputs": [],
   "source": [
    "cosine_sim = cosine_similarity(dfs, dfs)"
   ]
  },
  {
   "cell_type": "code",
   "execution_count": 35,
   "metadata": {},
   "outputs": [],
   "source": [
    "def get_content_based_recommendations(title_string, n_recommendations=10):\n",
    "    title = str(title_string)\n",
    "    idx = iter_idx[title]\n",
    "    sim_scores = list(enumerate(cosine_sim[idx]))\n",
    "    sim_scores = sorted(sim_scores, key=lambda x: x[1], reverse=True)\n",
    "    sim_scores = sim_scores[1 : (n_recommendations + 1)]\n",
    "    similar_movies = [i[0] for i in sim_scores]\n",
    "    print(f\"Because you watched {title}:\")\n",
    "    print(merged_df[\"Titles\"].iloc[similar_movies])"
   ]
  },
  {
   "cell_type": "code",
   "execution_count": 228,
   "metadata": {},
   "outputs": [
    {
     "name": "stdout",
     "output_type": "stream",
     "text": [
      "Because you watched دهمین همایش سالانه بانکداری الکترونیک:\n",
      "11     پارکینگ VIP\n",
      "12     پارکینگ VIP\n",
      "38     پارکینگ VIP\n",
      "97     پارکینگ VIP\n",
      "98     پارکینگ VIP\n",
      "99     پارکینگ VIP\n",
      "118    پارکینگ VIP\n",
      "149    پارکینگ VIP\n",
      "160    پارکینگ VIP\n",
      "192    پارکینگ VIP\n",
      "Name: Titles, dtype: object\n",
      "Because you watched کنسرت تست ( با انتخاب صندلی ):\n",
      "69     نمایش کمدی ژیلت\n",
      "70     نمایش کمدی ژیلت\n",
      "71     نمایش کمدی ژیلت\n",
      "72     نمایش کمدی ژیلت\n",
      "101    نمایش کمدی ژیلت\n",
      "127    نمایش کمدی ژیلت\n",
      "196    نمایش کمدی ژیلت\n",
      "236    نمایش کمدی ژیلت\n",
      "285    نمایش کمدی ژیلت\n",
      "373    نمایش کمدی ژیلت\n",
      "Name: Titles, dtype: object\n",
      "Because you watched کنسرت احمد سلو:\n",
      "244    دانلود نرم افزار و قرارداد\n",
      "295    دانلود نرم افزار و قرارداد\n",
      "354    دانلود نرم افزار و قرارداد\n",
      "426    دانلود نرم افزار و قرارداد\n",
      "553    دانلود نرم افزار و قرارداد\n",
      "576    دانلود نرم افزار و قرارداد\n",
      "717    دانلود نرم افزار و قرارداد\n",
      "833    دانلود نرم افزار و قرارداد\n",
      "866    دانلود نرم افزار و قرارداد\n",
      "886    دانلود نرم افزار و قرارداد\n",
      "Name: Titles, dtype: object\n"
     ]
    }
   ],
   "source": [
    "for i in phone_list:\n",
    "    title = (\n",
    "        interaction[interaction[\"شماره موبایل\"] == i][[\"زمان تعامل(تانیه)\", \"بازدید\"]]\n",
    "        .sort_values(by=\"زمان تعامل(تانیه)\", ascending=False)\n",
    "        .iloc[:3]\n",
    "    )\n",
    "    title = title[\"بازدید\"]\n",
    "\n",
    "for k in range(len(title)):\n",
    "    get_content_based_recommendations(title.iloc[k])"
   ]
  },
  {
   "cell_type": "code",
   "execution_count": null,
   "metadata": {},
   "outputs": [],
   "source": []
  }
 ],
 "metadata": {
  "kernelspec": {
   "display_name": "base",
   "language": "python",
   "name": "python3"
  },
  "language_info": {
   "codemirror_mode": {
    "name": "ipython",
    "version": 3
   },
   "file_extension": ".py",
   "mimetype": "text/x-python",
   "name": "python",
   "nbconvert_exporter": "python",
   "pygments_lexer": "ipython3",
   "version": "3.11.7"
  }
 },
 "nbformat": 4,
 "nbformat_minor": 2
}
