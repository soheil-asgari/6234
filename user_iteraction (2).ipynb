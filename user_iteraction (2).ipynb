{
 "cells": [
  {
   "cell_type": "code",
   "execution_count": 1,
   "metadata": {},
   "outputs": [],
   "source": [
    "import pandas as pd\n",
    "import numpy as np\n",
    "import requests\n",
    "import json\n",
    "import urllib.request\n",
    "from bs4 import BeautifulSoup\n",
    "from sklearn.metrics.pairwise import cosine_similarity\n",
    "from sklearn.neighbors import NearestNeighbors\n",
    "from sklearn.preprocessing import LabelEncoder\n",
    "from sklearn.impute import SimpleImputer\n",
    "from sklearn.neighbors import NearestNeighbors\n",
    "from sklearn.feature_extraction.text import CountVectorizer\n",
    "from scipy.sparse import csr_matrix"
   ]
  },
  {
   "cell_type": "code",
   "execution_count": 2,
   "metadata": {},
   "outputs": [],
   "source": [
    "def title_scrap(url: str):\n",
    "    url = url\n",
    "\n",
    "    response = requests.get(url)\n",
    "\n",
    "    if response.status_code == 200:\n",
    "\n",
    "        soup = BeautifulSoup(response.text, \"html.parser\")\n",
    "\n",
    "        h3_tags = soup.find_all(\"h3\", class_=\"blog_post_title my-2\")\n",
    "\n",
    "        titles = []\n",
    "\n",
    "        for tag in h3_tags:\n",
    "            if tag.text.strip():\n",
    "                titles.append(tag.text.strip())\n",
    "\n",
    "        df = pd.DataFrame({\"Titles\": titles})\n",
    "    return df"
   ]
  },
  {
   "cell_type": "code",
   "execution_count": 3,
   "metadata": {},
   "outputs": [],
   "source": [
    "df_title = title_scrap(\"https://www.6234.ir/\")"
   ]
  },
  {
   "cell_type": "code",
   "execution_count": 4,
   "metadata": {},
   "outputs": [],
   "source": [
    "def location_scrap(url: str):\n",
    "    url = url\n",
    "\n",
    "    response = requests.get(url)\n",
    "\n",
    "    if response.status_code == 200:\n",
    "\n",
    "        soup = BeautifulSoup(response.text, \"html.parser\")\n",
    "\n",
    "        h3_tags = soup.find_all(\"div\", class_=\"blog_post_title my-2\")\n",
    "\n",
    "        titles = []\n",
    "\n",
    "        for tag in h3_tags:\n",
    "            if tag.text.strip():\n",
    "                titles.append(tag.text.strip())\n",
    "\n",
    "        df_location = pd.DataFrame({\"Titles\": titles})\n",
    "    return df_location"
   ]
  },
  {
   "cell_type": "code",
   "execution_count": 5,
   "metadata": {},
   "outputs": [],
   "source": [
    "df_location = location_scrap(\"https://www.6234.ir/\")"
   ]
  },
  {
   "cell_type": "code",
   "execution_count": 6,
   "metadata": {},
   "outputs": [],
   "source": [
    "def date_scrap(url: str):\n",
    "    url = url\n",
    "\n",
    "    response = requests.get(url)\n",
    "\n",
    "    if response.status_code == 200:\n",
    "\n",
    "        soup = BeautifulSoup(response.text, \"html.parser\")\n",
    "\n",
    "        h3_tags = soup.find_all(\"div\", class_=\"theater-date my-2\")\n",
    "\n",
    "        titles = []\n",
    "\n",
    "        for tag in h3_tags:\n",
    "            if tag.text.strip():\n",
    "                titles.append(tag.text.strip())\n",
    "\n",
    "        df_date = pd.DataFrame({\"Titles\": titles})\n",
    "    return df_date"
   ]
  },
  {
   "cell_type": "code",
   "execution_count": 7,
   "metadata": {},
   "outputs": [],
   "source": [
    "df_date = date_scrap(\"https://www.6234.ir/\")"
   ]
  },
  {
   "cell_type": "code",
   "execution_count": 8,
   "metadata": {},
   "outputs": [],
   "source": [
    "def user_interaction_from_api(api: str):\n",
    "    link = api\n",
    "    urllib.request.urlretrieve(link, \"log.xlsx\")\n",
    "    interaction = pd.read_excel(\"log.xlsx\")\n",
    "\n",
    "    return interaction"
   ]
  },
  {
   "cell_type": "code",
   "execution_count": 9,
   "metadata": {},
   "outputs": [],
   "source": [
    "def user_iteraction_from_file(file_path: str):\n",
    "    iteraction = pd.read_excel(file_path)\n",
    "    return iteraction"
   ]
  },
  {
   "cell_type": "code",
   "execution_count": 10,
   "metadata": {},
   "outputs": [],
   "source": [
    "def user_buy_history_from_api(api: str):\n",
    "    link = api\n",
    "    urllib.request.urlretrieve(link, \"visitor.xlsx\")\n",
    "    buy_history = pd.read_excel(\"visitor.xlsx\")\n",
    "\n",
    "    return buy_history"
   ]
  },
  {
   "cell_type": "code",
   "execution_count": 11,
   "metadata": {},
   "outputs": [],
   "source": [
    "def user_buy_history_from_file(file_path: str):\n",
    "\n",
    "    buy_history = pd.read_excel(file_path)\n",
    "\n",
    "    return buy_history"
   ]
  },
  {
   "cell_type": "code",
   "execution_count": 12,
   "metadata": {},
   "outputs": [],
   "source": [
    "buy_history = pd.read_excel(\"./گزارش بلیط- نمونه.xlsx\")"
   ]
  },
  {
   "cell_type": "code",
   "execution_count": 13,
   "metadata": {},
   "outputs": [],
   "source": [
    "iteraction = pd.read_excel(\"./لاک بازدید- نمونه.xlsx\")"
   ]
  },
  {
   "cell_type": "code",
   "execution_count": 14,
   "metadata": {},
   "outputs": [],
   "source": [
    "def merge_df(\n",
    "    title_scrap: pd.DataFrame,\n",
    "    location_scrap: pd.DataFrame,\n",
    "    date_scrap: pd.DataFrame,\n",
    "    itraction,\n",
    "    buy_history,\n",
    "):\n",
    "    merge_df = pd.DataFrame(\n",
    "        {\n",
    "            \"Titles\": title_scrap[\"Titles\"],\n",
    "            \"Location\": location_scrap[\"Titles\"],\n",
    "            \"Date\": date_scrap[\"Titles\"],\n",
    "        }\n",
    "    )\n",
    "    merge_df = pd.concat(\n",
    "        [merge_df[\"Titles\"], itraction[\"بازدید\"], buy_history[\"رویداد\"]]\n",
    "    ).reset_index()\n",
    "    merge_df.columns = [\"index\", \"Titles\"]\n",
    "    return merge_df"
   ]
  },
  {
   "cell_type": "code",
   "execution_count": 15,
   "metadata": {},
   "outputs": [],
   "source": [
    "merge_df = merge_df(df_title, df_location, df_date, iteraction, buy_history)"
   ]
  },
  {
   "cell_type": "code",
   "execution_count": 16,
   "metadata": {},
   "outputs": [],
   "source": [
    "def iteraction_pre(df):\n",
    "    df = df\n",
    "    le = LabelEncoder()\n",
    "    df[\"userId\"] = le.fit_transform(df[\"نام و نام خانوادگی\"])\n",
    "\n",
    "    return df"
   ]
  },
  {
   "cell_type": "code",
   "execution_count": 17,
   "metadata": {},
   "outputs": [],
   "source": [
    "df = iteraction_pre(iteraction)"
   ]
  },
  {
   "cell_type": "code",
   "execution_count": 18,
   "metadata": {},
   "outputs": [
    {
     "data": {
      "text/plain": [
       "{0: 0, 1: 1, 2: 2}"
      ]
     },
     "execution_count": 18,
     "metadata": {},
     "output_type": "execute_result"
    }
   ],
   "source": [
    "np.unique(df[\"userId\"])\n",
    "M = df[\"userId\"].nunique()\n",
    "dict(zip(np.unique(df[\"userId\"]), list(range(M))))"
   ]
  },
  {
   "cell_type": "code",
   "execution_count": 19,
   "metadata": {},
   "outputs": [],
   "source": [
    "def creat_X(df):\n",
    "\n",
    "\n",
    "    M = df[\"userId\"].nunique()\n",
    "\n",
    "    N = df[\"بازدید\"].nunique()\n",
    "\n",
    "\n",
    "    user_mapper = dict(zip(np.unique(df[\"userId\"]), list(range(M))))\n",
    "\n",
    "    item_mapper = dict(zip(np.unique(df[\"بازدید\"]), list(range(N))))\n",
    "\n",
    "\n",
    "    user_inv_mapper = dict(zip(list(range(M)), np.unique(df[\"userId\"])))\n",
    "\n",
    "    item_inv_mapper = dict(zip(list(range(N)), np.unique(df[\"بازدید\"])))\n",
    "\n",
    "\n",
    "    user_index = [user_mapper[i] for i in df[\"userId\"]]\n",
    "\n",
    "    item_indx = [item_mapper[i] for i in df[\"بازدید\"]]\n",
    "\n",
    "\n",
    "    X = csr_matrix((df[\"زمان تعامل(تانیه)\"], (user_index, item_indx)), shape=(M, N))\n",
    "\n",
    "\n",
    "    return X, user_mapper, item_mapper, user_inv_mapper, item_inv_mapper"
   ]
  },
  {
   "cell_type": "code",
   "execution_count": 20,
   "metadata": {},
   "outputs": [],
   "source": [
    "X, user_mapper, item_mapper, user_inv_mapper, item_inv_mapper = creat_X(df)"
   ]
  },
  {
   "cell_type": "code",
   "execution_count": 21,
   "metadata": {},
   "outputs": [],
   "source": [
    "def find_similar_item(iter_name, X, item_mapper, item_inv_mapper, k, metrics=\"cosine\"):\n",
    "\n",
    "    X = X.T\n",
    "    neighbours_ids = []\n",
    "\n",
    "    iter_ind = item_mapper[iter_name]\n",
    "    iter_vec = X[iter_ind]\n",
    "    if isinstance(iter_vec, (np.ndarray)):\n",
    "        iter_vec = iter_vec.reshape(1, -1)\n",
    "    # use k+1 since kNN output includes the user recommender of interest\n",
    "    knn = NearestNeighbors(n_neighbors=k + 1, algorithm=\"brute\", metric=metrics)\n",
    "    knn.fit(X)\n",
    "    neighbours = knn.kneighbors(iter_vec, return_distance=False)\n",
    "    for i in range(0, k):\n",
    "        n = neighbours.item(i)\n",
    "        neighbours_ids.append(item_inv_mapper[n])\n",
    "    neighbours_ids.pop(0)\n",
    "    return neighbours_ids"
   ]
  },
  {
   "cell_type": "code",
   "execution_count": 22,
   "metadata": {},
   "outputs": [],
   "source": [
    "def list_to_string(row):\n",
    "    return \" \".join(row)"
   ]
  },
  {
   "cell_type": "code",
   "execution_count": 23,
   "metadata": {},
   "outputs": [],
   "source": [
    "df_ohe = merge_df[\"Titles\"].str.split(\" \").reset_index().astype(\"str\")"
   ]
  },
  {
   "cell_type": "code",
   "execution_count": 24,
   "metadata": {},
   "outputs": [],
   "source": [
    "df_ohe[\"Titles\"] = df_ohe[\"Titles\"].apply(list_to_string)"
   ]
  },
  {
   "cell_type": "code",
   "execution_count": 25,
   "metadata": {},
   "outputs": [],
   "source": [
    "le = LabelEncoder()\n",
    "merge_df[\"ohe\"] = le.fit_transform(df_ohe[\"Titles\"])"
   ]
  },
  {
   "cell_type": "code",
   "execution_count": 26,
   "metadata": {},
   "outputs": [],
   "source": [
    "def vectorized_text(df: pd.DataFrame):\n",
    "    vectorized = CountVectorizer(token_pattern=r\"(?u)\\b\\w+\\b\")\n",
    "    X = vectorized.fit_transform(merge_df[\"Titles\"])\n",
    "\n",
    "    feature_names = vectorized.get_feature_names_out()\n",
    "    one_hot_df = pd.DataFrame(X.toarray(), columns=feature_names)\n",
    "\n",
    "    dfs = pd.concat([df, one_hot_df], axis=1)\n",
    "    dfs.drop(columns=[\"Titles\"], inplace=True)\n",
    "\n",
    "    return dfs"
   ]
  },
  {
   "cell_type": "code",
   "execution_count": 27,
   "metadata": {},
   "outputs": [],
   "source": [
    "dfs = vectorized_text(df_title)"
   ]
  },
  {
   "cell_type": "code",
   "execution_count": 28,
   "metadata": {},
   "outputs": [],
   "source": [
    "def cosine_similioraty(\n",
    "    dfs: pd.DataFrame, merge_pd, itraction, idx: str, n_recommendations: int = 1\n",
    "):\n",
    "    cosine_sim = cosine_similarity(dfs, dfs)\n",
    "    iter_idx = dict(zip(merge_pd[\"Titles\"], list(itraction.index)))\n",
    "    idx = iter_idx[idx]\n",
    "    n_recommendations = n_recommendations\n",
    "    sim_scores = list(enumerate(cosine_sim[idx]))\n",
    "    sim_scores = sorted(sim_scores, key=lambda x: x[1], reverse=True)\n",
    "    sim_scores = sim_scores[1 : (n_recommendations + 1)]\n",
    "    similar_item = [i[0] for i in sim_scores]\n",
    "    recomended = merge_pd[\"Titles\"].iloc[similar_item]\n",
    "    recomended = recomended.to_list()\n",
    "\n",
    "    return recomended"
   ]
  },
  {
   "cell_type": "code",
   "execution_count": 37,
   "metadata": {},
   "outputs": [],
   "source": [
    "cosine_sim = cosine_similarity(dfs, dfs)\n",
    "iter_idx = dict(zip(merge_df[\"Titles\"], list(iteraction.index)))\n",
    "idx = iter_idx[\"کنسرت تست ( بدون انتخاب صندلی )\"]\n",
    "n_recommendations = 1\n",
    "sim_scores = list(enumerate(cosine_sim[idx]))\n",
    "sim_scores = sorted(sim_scores, key=lambda x: x[1], reverse=True)\n",
    "sim_scores = sim_scores[1 : (n_recommendations + 1)]\n",
    "similar_item = [i[0] for i in sim_scores]\n",
    "recomended = merge_df[\"Titles\"].iloc[similar_item]\n",
    "recomended = recomended.to_list()"
   ]
  },
  {
   "cell_type": "code",
   "execution_count": 41,
   "metadata": {},
   "outputs": [
    {
     "data": {
      "text/plain": [
       "0"
      ]
     },
     "execution_count": 41,
     "metadata": {},
     "output_type": "execute_result"
    }
   ],
   "source": [
    "idx"
   ]
  },
  {
   "cell_type": "code",
   "execution_count": 29,
   "metadata": {},
   "outputs": [],
   "source": [
    "user_dataframes = {}\n",
    "\n",
    "\n",
    "for name, group_df in iteraction.groupby(\"نام و نام خانوادگی\"):\n",
    "    user_dataframes[name] = group_df.reset_index(drop=True)\n",
    "\n",
    "\n",
    "for name, df in user_dataframes.items():\n",
    "    globals()[f\"{name}_dataframe\"] = df"
   ]
  },
  {
   "cell_type": "code",
   "execution_count": 30,
   "metadata": {},
   "outputs": [],
   "source": [
    "users = iteraction[\"نام و نام خانوادگی\"].unique()"
   ]
  },
  {
   "cell_type": "code",
   "execution_count": 31,
   "metadata": {},
   "outputs": [],
   "source": [
    "user_iter = {}\n",
    "for i in users:\n",
    "    user_it = (\n",
    "        iteraction[iteraction[\"نام و نام خانوادگی\"] == i][\n",
    "            [\"زمان تعامل(تانیه)\", \"بازدید\"]\n",
    "        ]\n",
    "        .max()\n",
    "        .reset_index()\n",
    "        .T\n",
    "    )\n",
    "    user_it.columns = [\"زمان تعامل(تانیه)\", \"بازدید\"]\n",
    "    user_it.drop(index=\"index\", inplace=True)\n",
    "    user_it[\"بازدید\"]\n",
    "    idx = user_it[\"بازدید\"].to_list()[0]\n",
    "    names = i\n",
    "    iters = cosine_similioraty(dfs, merge_df, iteraction, idx=idx)\n",
    "    user_dict = {names: iters}\n",
    "    user_iter.update(user_dict)"
   ]
  },
  {
   "cell_type": "code",
   "execution_count": 32,
   "metadata": {},
   "outputs": [
    {
     "data": {
      "text/plain": [
       "{'ناشناس': ['کنسرت نوشه ( ویژه بانوان )'],\n",
       " 'سفردوست': ['کنسرت حامی'],\n",
       " 'امیر نبی پور': ['دهمین همایش سالانه بانکداری الکترونیک']}"
      ]
     },
     "execution_count": 32,
     "metadata": {},
     "output_type": "execute_result"
    }
   ],
   "source": [
    "user_iter"
   ]
  },
  {
   "cell_type": "code",
   "execution_count": 33,
   "metadata": {},
   "outputs": [
    {
     "data": {
      "text/plain": [
       "(307, 3)"
      ]
     },
     "execution_count": 33,
     "metadata": {},
     "output_type": "execute_result"
    }
   ],
   "source": [
    "merge_df.shape"
   ]
  },
  {
   "cell_type": "code",
   "execution_count": 34,
   "metadata": {},
   "outputs": [
    {
     "data": {
      "text/plain": [
       "(199, 9)"
      ]
     },
     "execution_count": 34,
     "metadata": {},
     "output_type": "execute_result"
    }
   ],
   "source": [
    "iteraction.shape"
   ]
  },
  {
   "cell_type": "code",
   "execution_count": 36,
   "metadata": {},
   "outputs": [
    {
     "data": {
      "text/plain": [
       "(307, 307)"
      ]
     },
     "execution_count": 36,
     "metadata": {},
     "output_type": "execute_result"
    }
   ],
   "source": [
    "cosine_similarity(dfs, dfs).shape"
   ]
  },
  {
   "cell_type": "code",
   "execution_count": null,
   "metadata": {},
   "outputs": [],
   "source": []
  }
 ],
 "metadata": {
  "kernelspec": {
   "display_name": "base",
   "language": "python",
   "name": "python3"
  },
  "language_info": {
   "codemirror_mode": {
    "name": "ipython",
    "version": 3
   },
   "file_extension": ".py",
   "mimetype": "text/x-python",
   "name": "python",
   "nbconvert_exporter": "python",
   "pygments_lexer": "ipython3",
   "version": "3.11.7"
  }
 },
 "nbformat": 4,
 "nbformat_minor": 2
}
